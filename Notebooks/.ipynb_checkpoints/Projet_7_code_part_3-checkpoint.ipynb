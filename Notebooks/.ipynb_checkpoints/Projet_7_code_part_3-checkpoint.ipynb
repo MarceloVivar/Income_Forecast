{
 "cells": [
  {
   "cell_type": "markdown",
   "metadata": {
    "colab_type": "text",
    "id": "sH4XrZ5Jdev8"
   },
   "source": [
    "## Mission 4"
   ]
  },
  {
   "cell_type": "markdown",
   "metadata": {
    "colab_type": "text",
    "id": "-DbUVM92dewA"
   },
   "source": [
    " Pour cette mission 4, nous chercherons à expliquer le revenu des individus en fonction de plusieurs variables explicatives : le pays de l'individu, l'indice de Gini de ce pays, la classe de revenus des parents, etc.\n",
    "\n",
    "Appliquez une ANOVA sur vos données, en n’incluant comme variable explicative que le pays de l’individu. Analysez la performance du modèle."
   ]
  },
  {
   "cell_type": "markdown",
   "metadata": {
    "colab_type": "text",
    "id": "FAaQOP2xdewC"
   },
   "source": [
    "Pour chacune des régressions suivantes, vous testerez 2 version : l'une en exprimant le revenu moyen du pays et les revenus (parents & enfants) en logarithme (ln), l'autre en les laissant tels quels. Vous choisirez la version la plus performante pour répondre aux question."
   ]
  },
  {
   "cell_type": "markdown",
   "metadata": {
    "colab_type": "text",
    "id": "BNadvjCIdewD"
   },
   "source": [
    "Appliquez une régression linéaire sur vos données, en incluant comme variables explicatives uniquement le revenu moyen du pays de l’individu et l’indice de Gini du pays de l’individu. Quel est le pourcentage de variance expliquée par votre modèle ?\n",
    "\n",
    "Selon ce modèle, donnez la décomposition de variance totale expliquée par :\n",
    "\n",
    "* le pays de naissance (ie. le revenu moyen et l’indice de Gini) ;\n",
    "* les autres facteurs non considérés dans le modèle (efforts, chance, etc.).\n",
    "\n",
    "Améliorez le modèle précédent en incluant maintenant la classe de revenu des parents. Quel est le pourcentage de variance expliquée par ce nouveau modèle ?"
   ]
  },
  {
   "cell_type": "markdown",
   "metadata": {
    "colab_type": "text",
    "id": "CFzMZ0AqdewE"
   },
   "source": [
    "En observant le coefficient de régression associé à l’indice de Gini, peut-on affirmer que le fait de vivre dans un pays plus inégalitaire favorise plus de personnes qu’il n’en défavorise ?"
   ]
  },
  {
   "cell_type": "markdown",
   "metadata": {
    "colab_type": "text",
    "id": "8lnZ2V-edewF"
   },
   "source": [
    "Selon ce dernier modèle, donnez la décomposition de variance totale expliquée par :\n",
    "\n",
    "* le pays de naissance et le revenu des parents\n",
    "* les autres facteurs non considérés dans le modèle (efforts, chance, etc.)"
   ]
  },
  {
   "cell_type": "code",
   "execution_count": 1,
   "metadata": {
    "colab": {},
    "colab_type": "code",
    "id": "kUpAt0L2eOEw"
   },
   "outputs": [
    {
     "ename": "ModuleNotFoundError",
     "evalue": "No module named 'google.colab'",
     "output_type": "error",
     "traceback": [
      "\u001b[0;31m---------------------------------------------------------------------------\u001b[0m",
      "\u001b[0;31mModuleNotFoundError\u001b[0m                       Traceback (most recent call last)",
      "\u001b[0;32m<ipython-input-1-263d5ef5c26d>\u001b[0m in \u001b[0;36m<module>\u001b[0;34m\u001b[0m\n\u001b[1;32m      3\u001b[0m \u001b[0;32mfrom\u001b[0m \u001b[0mpydrive\u001b[0m\u001b[0;34m.\u001b[0m\u001b[0mauth\u001b[0m \u001b[0;32mimport\u001b[0m \u001b[0mGoogleAuth\u001b[0m\u001b[0;34m\u001b[0m\u001b[0;34m\u001b[0m\u001b[0m\n\u001b[1;32m      4\u001b[0m \u001b[0;32mfrom\u001b[0m \u001b[0mpydrive\u001b[0m\u001b[0;34m.\u001b[0m\u001b[0mdrive\u001b[0m \u001b[0;32mimport\u001b[0m \u001b[0mGoogleDrive\u001b[0m\u001b[0;34m\u001b[0m\u001b[0;34m\u001b[0m\u001b[0m\n\u001b[0;32m----> 5\u001b[0;31m \u001b[0;32mfrom\u001b[0m \u001b[0mgoogle\u001b[0m\u001b[0;34m.\u001b[0m\u001b[0mcolab\u001b[0m \u001b[0;32mimport\u001b[0m \u001b[0mauth\u001b[0m\u001b[0;34m\u001b[0m\u001b[0;34m\u001b[0m\u001b[0m\n\u001b[0m\u001b[1;32m      6\u001b[0m \u001b[0;32mfrom\u001b[0m \u001b[0moauth2client\u001b[0m\u001b[0;34m.\u001b[0m\u001b[0mclient\u001b[0m \u001b[0;32mimport\u001b[0m \u001b[0mGoogleCredentials\u001b[0m\u001b[0;34m\u001b[0m\u001b[0;34m\u001b[0m\u001b[0m\n",
      "\u001b[0;31mModuleNotFoundError\u001b[0m: No module named 'google.colab'"
     ]
    }
   ],
   "source": [
    "# Code to read csv file into colaboratory:\n",
    "!pip install -U -q PyDrive\n",
    "from pydrive.auth import GoogleAuth\n",
    "from pydrive.drive import GoogleDrive\n",
    "from google.colab import auth\n",
    "from oauth2client.client import GoogleCredentials"
   ]
  },
  {
   "cell_type": "code",
   "execution_count": null,
   "metadata": {
    "colab": {},
    "colab_type": "code",
    "id": "N7sPjP60eReK"
   },
   "outputs": [],
   "source": [
    "auth.authenticate_user()\n",
    "gauth = GoogleAuth()\n",
    "gauth.credentials = GoogleCredentials.get_application_default()\n",
    "drive = GoogleDrive(gauth)"
   ]
  },
  {
   "cell_type": "code",
   "execution_count": null,
   "metadata": {
    "colab": {},
    "colab_type": "code",
    "id": "wcCJHonLetrb"
   },
   "outputs": [],
   "source": [
    "#2.1 Get the file\n",
    "downloaded = drive.CreateFile({'id':'1y335WUIBHKYTK29fse9f55Q4Pc15qRv7'}) # replace the id with id of file you want to access\n",
    "downloaded.GetContentFile('df_projet_7_final.csv') "
   ]
  },
  {
   "cell_type": "code",
   "execution_count": null,
   "metadata": {
    "colab": {},
    "colab_type": "code",
    "id": "CZqMhZbzdewH"
   },
   "outputs": [],
   "source": [
    "import pandas as pd\n",
    "import numpy as np\n",
    "import seaborn as sns\n",
    "import matplotlib.pyplot as plt\n",
    "import sys\n",
    "import matplotlib\n",
    "import seaborn as sns\n",
    "import bokeh.plotting as bk\n",
    "import bokeh.io as outbk\n",
    "import re\n",
    "import statsmodels.api as sm\n",
    "import statsmodels.formula.api as smf\n",
    "from statsmodels.formula.api import ols\n",
    "from sklearn import datasets, linear_model\n",
    "from sklearn.metrics import mean_squared_error, r2_score\n",
    "from scipy import stats\n",
    "from sklearn.model_selection import train_test_split\n",
    "from mpl_toolkits.mplot3d import Axes3D\n",
    "from sklearn.decomposition import PCA\n",
    "import scipy\n",
    "from math import pi\n",
    "\n",
    "from funtions import *"
   ]
  },
  {
   "cell_type": "code",
   "execution_count": null,
   "metadata": {
    "colab": {
     "base_uri": "https://localhost:8080/",
     "height": 204
    },
    "colab_type": "code",
    "executionInfo": {
     "elapsed": 35607,
     "status": "ok",
     "timestamp": 1579187318072,
     "user": {
      "displayName": "Juan Marcelo Vivar",
      "photoUrl": "",
      "userId": "10903669181857222334"
     },
     "user_tz": -60
    },
    "id": "YT4bdK0HdewL",
    "outputId": "3956924d-5038-4c21-d85f-c7580a36da27"
   },
   "outputs": [],
   "source": [
    "df= pd.read_csv ('df_projet_7_final.csv')\n",
    "del df['Unnamed: 0']\n",
    "df.head()"
   ]
  },
  {
   "cell_type": "code",
   "execution_count": null,
   "metadata": {
    "colab": {},
    "colab_type": "code",
    "id": "6NEOG3JxgbSL"
   },
   "outputs": [],
   "source": [
    "#2.1 Get the file\n",
    "downloaded = drive.CreateFile({'id':'1-6L9-vzL3WK8xnYn8BODJmL6tQOyIk0o'}) # replace the id with id of file you want to access\n",
    "downloaded.GetContentFile('df_projet_7_proba.csv') "
   ]
  },
  {
   "cell_type": "code",
   "execution_count": null,
   "metadata": {
    "colab": {
     "base_uri": "https://localhost:8080/",
     "height": 204
    },
    "colab_type": "code",
    "executionInfo": {
     "elapsed": 36579,
     "status": "ok",
     "timestamp": 1579187319184,
     "user": {
      "displayName": "Juan Marcelo Vivar",
      "photoUrl": "",
      "userId": "10903669181857222334"
     },
     "user_tz": -60
    },
    "id": "hsOUS37GdewQ",
    "outputId": "587b80a1-6ecc-47b2-e60d-c9a7d140f6ba"
   },
   "outputs": [],
   "source": [
    "df_prob= pd.read_csv ('df_projet_7_proba.csv')\n",
    "del df_prob['Unnamed: 0']\n",
    "df_prob.head()"
   ]
  },
  {
   "cell_type": "markdown",
   "metadata": {
    "colab_type": "text",
    "id": "aN0Iv3bKEv4j"
   },
   "source": [
    "ANOVA "
   ]
  },
  {
   "cell_type": "markdown",
   "metadata": {
    "colab_type": "text",
    "id": "gER2EK6mFDnw"
   },
   "source": [
    "Test de normalité de variables"
   ]
  },
  {
   "cell_type": "code",
   "execution_count": null,
   "metadata": {
    "colab": {
     "base_uri": "https://localhost:8080/",
     "height": 269
    },
    "colab_type": "code",
    "executionInfo": {
     "elapsed": 36989,
     "status": "ok",
     "timestamp": 1579187319637,
     "user": {
      "displayName": "Juan Marcelo Vivar",
      "photoUrl": "",
      "userId": "10903669181857222334"
     },
     "user_tz": -60
    },
    "id": "W3BFjBzZhsIc",
    "outputId": "26b35232-2ba7-447f-b53a-fc36566a5e85"
   },
   "outputs": [],
   "source": [
    "plt.hist(df['Income'])\n",
    "plt.show()"
   ]
  },
  {
   "cell_type": "code",
   "execution_count": null,
   "metadata": {
    "colab": {},
    "colab_type": "code",
    "id": "jJbCPZ5nGAnb"
   },
   "outputs": [],
   "source": [
    "var_1 = df['Income']"
   ]
  },
  {
   "cell_type": "code",
   "execution_count": null,
   "metadata": {
    "colab": {
     "base_uri": "https://localhost:8080/",
     "height": 51
    },
    "colab_type": "code",
    "executionInfo": {
     "elapsed": 36909,
     "status": "ok",
     "timestamp": 1579187319641,
     "user": {
      "displayName": "Juan Marcelo Vivar",
      "photoUrl": "",
      "userId": "10903669181857222334"
     },
     "user_tz": -60
    },
    "id": "0WCrfcvSFITw",
    "outputId": "4f29721e-138f-4e00-8b25-87fe6d3c78c0"
   },
   "outputs": [],
   "source": [
    "# test de normalité\n",
    "stat, p = stats.normaltest(var_1)\n",
    "print('Statistics=%.3f, p=%.3f' % (stat, p))\n",
    "# interpretion\n",
    "alpha = 0.05\n",
    "if p > alpha:\n",
    "\tprint('L’échantillon semble gaussien (ne pas rejeter H0)')\n",
    "else:\n",
    "\tprint('L’échantillon ne semble pas gaussien (rejeter H0)')"
   ]
  },
  {
   "cell_type": "code",
   "execution_count": null,
   "metadata": {
    "colab": {},
    "colab_type": "code",
    "id": "-fvWF8VtaVsh"
   },
   "outputs": [],
   "source": [
    "var_1= np.log(df['Income'])\n",
    "\n"
   ]
  },
  {
   "cell_type": "code",
   "execution_count": null,
   "metadata": {
    "colab": {
     "base_uri": "https://localhost:8080/",
     "height": 51
    },
    "colab_type": "code",
    "executionInfo": {
     "elapsed": 37210,
     "status": "ok",
     "timestamp": 1579187320013,
     "user": {
      "displayName": "Juan Marcelo Vivar",
      "photoUrl": "",
      "userId": "10903669181857222334"
     },
     "user_tz": -60
    },
    "id": "PbcJyb_McEGI",
    "outputId": "e53bf9f5-509a-4109-9ce8-f07b0d07a4cb"
   },
   "outputs": [],
   "source": [
    "# test de normalité\n",
    "stat, p = scipy.stats.normaltest(var_1)\n",
    "print('Statistics=%.3f, p=%.3f' % (stat, p))\n",
    "# interpretion\n",
    "alpha = 0.05\n",
    "if p > alpha:\n",
    "\tprint('L’échantillon semble gaussien (ne pas rejeter H0)')\n",
    "else:\n",
    "\tprint('L’échantillon ne semble pas gaussien (rejeter H0)')"
   ]
  },
  {
   "cell_type": "code",
   "execution_count": null,
   "metadata": {
    "colab": {
     "base_uri": "https://localhost:8080/",
     "height": 265
    },
    "colab_type": "code",
    "executionInfo": {
     "elapsed": 37352,
     "status": "ok",
     "timestamp": 1579187320219,
     "user": {
      "displayName": "Juan Marcelo Vivar",
      "photoUrl": "",
      "userId": "10903669181857222334"
     },
     "user_tz": -60
    },
    "id": "w0MB6D-Xnp1X",
    "outputId": "1a08832c-7c1f-4715-85e2-9ebfd65c9015"
   },
   "outputs": [],
   "source": [
    "plt.hist(var_1)\n",
    "plt.show()"
   ]
  },
  {
   "cell_type": "code",
   "execution_count": null,
   "metadata": {
    "colab": {
     "base_uri": "https://localhost:8080/",
     "height": 51
    },
    "colab_type": "code",
    "executionInfo": {
     "elapsed": 38159,
     "status": "ok",
     "timestamp": 1579187321104,
     "user": {
      "displayName": "Juan Marcelo Vivar",
      "photoUrl": "",
      "userId": "10903669181857222334"
     },
     "user_tz": -60
    },
    "id": "arBA-_-Ny6Up",
    "outputId": "e450f011-f10b-40d2-f7ea-e9c715bee256"
   },
   "outputs": [],
   "source": [
    "stat, p = scipy.stats.kstest(var_1,'norm')\n",
    "print('Statistics=%.3f, p=%.3f' % (stat, p))\n",
    "# interpretion\n",
    "alpha = 0.05\n",
    "if p > alpha:\n",
    "\tprint('L’échantillon semble gaussien (ne pas rejeter H0)')\n",
    "else:\n",
    "\tprint('L’échantillon ne semble pas gaussien (rejeter H0)')"
   ]
  },
  {
   "cell_type": "markdown",
   "metadata": {
    "colab_type": "text",
    "id": "NbhM2QYh9UAV"
   },
   "source": [
    "### Analyse de la variance"
   ]
  },
  {
   "cell_type": "markdown",
   "metadata": {
    "colab_type": "text",
    "id": "XsisjVmN_qjT"
   },
   "source": []
  },
  {
   "cell_type": "code",
   "execution_count": null,
   "metadata": {
    "colab": {},
    "colab_type": "code",
    "id": "fLlI_tpn_26s"
   },
   "outputs": [],
   "source": [
    "countries = ['RUS', 'CZE', 'LTU',\"CIV\", 'FJI', 'FRA','USA', 'ARG']"
   ]
  },
  {
   "cell_type": "code",
   "execution_count": null,
   "metadata": {
    "colab": {},
    "colab_type": "code",
    "id": "NeGw2h__QWpH"
   },
   "outputs": [],
   "source": [
    "df['Income_log'] = np.log(df['Income'])"
   ]
  },
  {
   "cell_type": "code",
   "execution_count": null,
   "metadata": {
    "colab": {
     "base_uri": "https://localhost:8080/",
     "height": 265
    },
    "colab_type": "code",
    "executionInfo": {
     "elapsed": 39872,
     "status": "ok",
     "timestamp": 1579187322918,
     "user": {
      "displayName": "Juan Marcelo Vivar",
      "photoUrl": "",
      "userId": "10903669181857222334"
     },
     "user_tz": -60
    },
    "id": "2aZGl-6Z_82h",
    "outputId": "068182ed-c278-4528-908a-0c7af9931cb9"
   },
   "outputs": [],
   "source": [
    "\n",
    "groupes = []\n",
    "for countrie in countries:\n",
    "    groupes.append(df[df['Country_Code']== countrie] ['Income_log'])\n",
    "    \n",
    "    \n",
    "# Propriétés graphiques    \n",
    "medianprops = {'color':\"black\"}\n",
    "meanprops = {'marker':'o'}\n",
    "\n",
    "plt.boxplot(groupes, labels=countries, showfliers=False, medianprops=medianprops,vert=False, patch_artist=True, showmeans=True, meanprops=meanprops)\n",
    "plt.show()"
   ]
  },
  {
   "cell_type": "markdown",
   "metadata": {
    "colab_type": "text",
    "id": "yk8ZyjOZPth2"
   },
   "source": [
    "H0 : Les variables sont indépendantes (le facteur n'a aucune influence sur la variable dépendante."
   ]
  },
  {
   "cell_type": "markdown",
   "metadata": {
    "colab_type": "text",
    "id": "Tr1idcPbF66k"
   },
   "source": [
    "H1 : Les variables sont dépendantes (le facteur a une influence sur la variable dépendante."
   ]
  },
  {
   "cell_type": "code",
   "execution_count": null,
   "metadata": {
    "colab": {
     "base_uri": "https://localhost:8080/",
     "height": 34
    },
    "colab_type": "code",
    "executionInfo": {
     "elapsed": 39782,
     "status": "ok",
     "timestamp": 1579187322920,
     "user": {
      "displayName": "Juan Marcelo Vivar",
      "photoUrl": "",
      "userId": "10903669181857222334"
     },
     "user_tz": -60
    },
    "id": "yIJtlOII_itf",
    "outputId": "cb7dceb7-e2ac-4867-ead8-d54670e74476"
   },
   "outputs": [],
   "source": [
    "F, p = stats.f_oneway(groupes[0],groupes[1],groupes[2],groupes[3],groupes[4],groupes[5],groupes[6],groupes[7])\n",
    "F,p"
   ]
  },
  {
   "cell_type": "markdown",
   "metadata": {
    "colab_type": "text",
    "id": "m4BeR4BOP5rM"
   },
   "source": [
    "F(Fisher) test : L'hypothèse que les moyennes de différents ensembles de données dont la distribution suit une loi normale, ayant tous le même écart-type, sont égales. Il s'agit du test F le plus connu et il joue un rôle important dans l'analyse de la variance (ANOVA)"
   ]
  },
  {
   "cell_type": "code",
   "execution_count": null,
   "metadata": {
    "colab": {
     "base_uri": "https://localhost:8080/",
     "height": 419
    },
    "colab_type": "code",
    "executionInfo": {
     "elapsed": 41373,
     "status": "ok",
     "timestamp": 1579187324552,
     "user": {
      "displayName": "Juan Marcelo Vivar",
      "photoUrl": "",
      "userId": "10903669181857222334"
     },
     "user_tz": -60
    },
    "id": "HDiu7B-3azdE",
    "outputId": "66a9cc30-d2fb-4ee1-8f73-ad75e6505d84"
   },
   "outputs": [],
   "source": [
    "\n",
    "russie = df.loc[df['Country_Code']== 'RUS']\n",
    "czech = df.loc[df['Country_Code']== 'CZE']\n",
    "cote_ivore = df.loc[df['Country_Code']== \"CIV\"]\n",
    "lituania = df.loc[df['Country_Code']== 'LTU']\n",
    "fiji = df.loc[df['Country_Code']== 'FJI']\n",
    "francia = df.loc[df['Country_Code']== 'FRA']\n",
    "usa = df.loc[df['Country_Code']== 'USA']\n",
    "argentina = df.loc[df['Country_Code']== 'ARG']\n",
    "\n",
    "df_groupes = pd.concat([russie,czech,cote_ivore, lituania, fiji, francia,usa,argentina])\n",
    "df_groupes"
   ]
  },
  {
   "cell_type": "code",
   "execution_count": null,
   "metadata": {
    "colab": {
     "base_uri": "https://localhost:8080/",
     "height": 328
    },
    "colab_type": "code",
    "executionInfo": {
     "elapsed": 41341,
     "status": "ok",
     "timestamp": 1579187324555,
     "user": {
      "displayName": "Juan Marcelo Vivar",
      "photoUrl": "",
      "userId": "10903669181857222334"
     },
     "user_tz": -60
    },
    "id": "bUk6nMGXbprd",
    "outputId": "ea14e416-a7c4-40db-b0d9-bcb3e34b602f"
   },
   "outputs": [],
   "source": [
    "df_groupes.groupby('Country_Code').mean()"
   ]
  },
  {
   "cell_type": "code",
   "execution_count": null,
   "metadata": {
    "colab": {
     "base_uri": "https://localhost:8080/",
     "height": 111
    },
    "colab_type": "code",
    "executionInfo": {
     "elapsed": 43038,
     "status": "ok",
     "timestamp": 1579187326309,
     "user": {
      "displayName": "Juan Marcelo Vivar",
      "photoUrl": "",
      "userId": "10903669181857222334"
     },
     "user_tz": -60
    },
    "id": "f4bLhMQ2Ohx_",
    "outputId": "5d55c095-a017-4a4e-f3b6-ae8f0b66d86b"
   },
   "outputs": [],
   "source": [
    "\n",
    "mod_anova= smf.ols('Income ~ Country_Code',data=df_groupes).fit()\n",
    "aov_oneway_table = sm.stats.anova_lm(mod_anova, typ=1) \n",
    "\n",
    "aov_oneway_table"
   ]
  },
  {
   "cell_type": "code",
   "execution_count": null,
   "metadata": {
    "colab": {
     "base_uri": "https://localhost:8080/",
     "height": 102
    },
    "colab_type": "code",
    "executionInfo": {
     "elapsed": 42982,
     "status": "ok",
     "timestamp": 1579187326311,
     "user": {
      "displayName": "Juan Marcelo Vivar",
      "photoUrl": "",
      "userId": "10903669181857222334"
     },
     "user_tz": -60
    },
    "id": "gVQpQ-JwVjtP",
    "outputId": "27e2326b-9f66-489e-af63-d96f532519cc"
   },
   "outputs": [],
   "source": [
    "\n",
    "esq_sm = aov_oneway_table['sum_sq'][0]/(aov_oneway_table['sum_sq'][0] + aov_oneway_table['sum_sq'][1])\n",
    "\n",
    "aov_oneway_table['EtaSq'] = [esq_sm, 'NaN']\n",
    "print(aov_oneway_table)"
   ]
  },
  {
   "cell_type": "code",
   "execution_count": null,
   "metadata": {
    "colab": {
     "base_uri": "https://localhost:8080/",
     "height": 570
    },
    "colab_type": "code",
    "executionInfo": {
     "elapsed": 42936,
     "status": "ok",
     "timestamp": 1579187326314,
     "user": {
      "displayName": "Juan Marcelo Vivar",
      "photoUrl": "",
      "userId": "10903669181857222334"
     },
     "user_tz": -60
    },
    "id": "7k9jywMAOvHr",
    "outputId": "8e2ef92b-dbd5-4b8a-d02c-629c78bae927"
   },
   "outputs": [],
   "source": [
    "mod_anova.summary()"
   ]
  },
  {
   "cell_type": "markdown",
   "metadata": {
    "colab_type": "text",
    "id": "ZGNBr9sYERoT"
   },
   "source": [
    "**Interprétations**\n",
    "\n",
    "La P-Value est infiniment faible, le pays est donc un facteur d'influence statistiquement fiable.\n",
    "\n",
    "Le modèle permet seulement d'expliquer 45% de la somme des carrés. Ceci est un bon début, mais ce n'est pas suffisant pour pouvoir déterminer de manière fiable le revenu d'un individu lambda."
   ]
  },
  {
   "cell_type": "markdown",
   "metadata": {
    "colab_type": "text",
    "id": "X6rQh0BvsEqW"
   },
   "source": [
    "## Régression linéaire"
   ]
  },
  {
   "cell_type": "markdown",
   "metadata": {
    "colab_type": "text",
    "id": "0Zm50Amyr-pi"
   },
   "source": [
    "Appliquez une régression linéaire sur vos données, en incluant comme variables explicatives uniquement le revenu moyen du pays de l’individu et l’indice de Gini du pays de l’individu. Quel est le pourcentage de variance expliquée par votre modèle ?\n",
    "\n",
    "Selon ce modèle, donnez la décomposition de variance totale expliquée par :\n",
    "\n",
    "le pays de naissance (ie. le revenu moyen et l’indice de Gini) ;\n",
    "les autres facteurs non considérés dans le modèle (efforts, chance, etc.)."
   ]
  },
  {
   "cell_type": "code",
   "execution_count": null,
   "metadata": {
    "colab": {},
    "colab_type": "code",
    "id": "DBsaEVhCsCsF"
   },
   "outputs": [],
   "source": [
    "a=df.groupby('Country_Code').mean()\n",
    "a= a.reset_index()\n"
   ]
  },
  {
   "cell_type": "code",
   "execution_count": null,
   "metadata": {
    "colab": {},
    "colab_type": "code",
    "id": "ErqgWPu21Ys8"
   },
   "outputs": [],
   "source": [
    "df = pd.merge(df,a , on ='Country_Code')"
   ]
  },
  {
   "cell_type": "code",
   "execution_count": null,
   "metadata": {
    "colab": {
     "base_uri": "https://localhost:8080/",
     "height": 204
    },
    "colab_type": "code",
    "executionInfo": {
     "elapsed": 44092,
     "status": "ok",
     "timestamp": 1579187327589,
     "user": {
      "displayName": "Juan Marcelo Vivar",
      "photoUrl": "",
      "userId": "10903669181857222334"
     },
     "user_tz": -60
    },
    "id": "kfEXZoBl5sUk",
    "outputId": "c5689e6b-1ab7-4e7e-e723-7142d26c6793"
   },
   "outputs": [],
   "source": [
    "df.head()"
   ]
  },
  {
   "cell_type": "code",
   "execution_count": null,
   "metadata": {
    "colab": {},
    "colab_type": "code",
    "id": "g5g8m6HYyoZ_"
   },
   "outputs": [],
   "source": [
    "\n",
    "del df['Quantile_y']\n",
    "del df['c_parent_y']\n",
    "del df['Population_y']\n",
    "del df['Gini_y']\n",
    "del df['Gdpppp_y']\n",
    "del df['Income_log_y']"
   ]
  },
  {
   "cell_type": "code",
   "execution_count": null,
   "metadata": {
    "colab": {},
    "colab_type": "code",
    "id": "lONcHt6t1myx"
   },
   "outputs": [],
   "source": [
    "df.columns = ['Country_Code','Country_Name','Quantile','C_parent','Population','Gini','Gdpppp','Income' ,'Income_log' , 'Mean_Income']"
   ]
  },
  {
   "cell_type": "code",
   "execution_count": null,
   "metadata": {
    "colab": {},
    "colab_type": "code",
    "id": "CB7J2ILi6DRC"
   },
   "outputs": [],
   "source": [
    "df['Mean_Income_log'] = np.log(df['Mean_Income'])"
   ]
  },
  {
   "cell_type": "code",
   "execution_count": null,
   "metadata": {
    "colab": {
     "base_uri": "https://localhost:8080/",
     "height": 204
    },
    "colab_type": "code",
    "executionInfo": {
     "elapsed": 44195,
     "status": "ok",
     "timestamp": 1579187327798,
     "user": {
      "displayName": "Juan Marcelo Vivar",
      "photoUrl": "",
      "userId": "10903669181857222334"
     },
     "user_tz": -60
    },
    "id": "FWZJODC8azRh",
    "outputId": "86d4ade6-7237-46c2-e43c-614af4c40fdf"
   },
   "outputs": [],
   "source": [
    "df.head()"
   ]
  },
  {
   "cell_type": "code",
   "execution_count": null,
   "metadata": {},
   "outputs": [],
   "source": [
    "### Split des données 20/80"
   ]
  },
  {
   "cell_type": "code",
   "execution_count": null,
   "metadata": {
    "colab": {},
    "colab_type": "code",
    "id": "5z1W4kTFfttI"
   },
   "outputs": [],
   "source": [
    "msk = np.random.rand(len(df)) < 0.8\n",
    "train = df[msk]\n",
    "test = df[~msk]"
   ]
  },
  {
   "cell_type": "code",
   "execution_count": null,
   "metadata": {
    "colab": {
     "base_uri": "https://localhost:8080/",
     "height": 34
    },
    "colab_type": "code",
    "executionInfo": {
     "elapsed": 44596,
     "status": "ok",
     "timestamp": 1579187328262,
     "user": {
      "displayName": "Juan Marcelo Vivar",
      "photoUrl": "",
      "userId": "10903669181857222334"
     },
     "user_tz": -60
    },
    "id": "l2MuMiqIg38Z",
    "outputId": "731dbcbd-7c22-4573-be83-8869d8cf465d"
   },
   "outputs": [],
   "source": [
    "\n",
    "from sklearn import linear_model\n",
    "regr = linear_model.LinearRegression()\n",
    "x_train= np.array(train[['Gini','Mean_Income']])\n",
    "y_train = np.array(train[['Income']])\n",
    "regr.fit (x_train, y_train)\n",
    "# The coefficients\n",
    "print ('Coefficients: ', regr.coef_)"
   ]
  },
  {
   "cell_type": "code",
   "execution_count": null,
   "metadata": {
    "colab": {
     "base_uri": "https://localhost:8080/",
     "height": 51
    },
    "colab_type": "code",
    "executionInfo": {
     "elapsed": 44763,
     "status": "ok",
     "timestamp": 1579187328484,
     "user": {
      "displayName": "Juan Marcelo Vivar",
      "photoUrl": "",
      "userId": "10903669181857222334"
     },
     "user_tz": -60
    },
    "id": "rV3vOW9ahk-E",
    "outputId": "98c8d50d-08ae-4ca7-f141-daa545b67efb"
   },
   "outputs": [],
   "source": [
    "Y_predits= regr.predict(test[['Gini','Mean_Income']])\n",
    "x_test = np.asanyarray(test[['Gini','Mean_Income']])\n",
    "y_test = np.asanyarray(test[['Income']])\n",
    "residual = np.mean((Y_predits - y_test) ** 2)\n",
    "print(\"Residual sum of squares: %.2f\"\n",
    "      % residual)\n",
    "\n",
    "# Explained variance score: 1 is perfect prediction\n",
    "print('Variance score: %.2f' % regr.score(x_test, y_test))"
   ]
  },
  {
   "cell_type": "code",
   "execution_count": null,
   "metadata": {
    "colab": {
     "base_uri": "https://localhost:8080/",
     "height": 34
    },
    "colab_type": "code",
    "executionInfo": {
     "elapsed": 44719,
     "status": "ok",
     "timestamp": 1579187328486,
     "user": {
      "displayName": "Juan Marcelo Vivar",
      "photoUrl": "",
      "userId": "10903669181857222334"
     },
     "user_tz": -60
    },
    "id": "yzMYNE1AyBSs",
    "outputId": "3e96aae7-e385-46a5-d499-d9841ae2f7b1"
   },
   "outputs": [],
   "source": [
    "print(\"le  modèle  explique  près de {}%  de  la variabilité de la variable cible\".format(round(regr.score(x_test, y_test)*100,2)))"
   ]
  },
  {
   "cell_type": "markdown",
   "metadata": {
    "colab_type": "text",
    "id": "5coY8tuYA268"
   },
   "source": [
    "**Interprétations**\n",
    "\n",
    "R2 étant environ égal à 45%. \n",
    "L'indice de Gini ne semble pas significatif.\n",
    "L'analyse montre que les données ne sont pas linéaires."
   ]
  },
  {
   "cell_type": "code",
   "execution_count": null,
   "metadata": {
    "colab": {
     "base_uri": "https://localhost:8080/",
     "height": 34
    },
    "colab_type": "code",
    "executionInfo": {
     "elapsed": 44905,
     "status": "ok",
     "timestamp": 1579187328686,
     "user": {
      "displayName": "Juan Marcelo Vivar",
      "photoUrl": "",
      "userId": "10903669181857222334"
     },
     "user_tz": -60
    },
    "id": "fVWh9mtT7lbq",
    "outputId": "9e70bf59-71ef-447b-9773-86891478ab7b"
   },
   "outputs": [],
   "source": [
    "regr = linear_model.LinearRegression()\n",
    "x_train= np.array(train[['Gini','Mean_Income_log']])\n",
    "y_train = np.array(train[['Income_log']])\n",
    "regr.fit (x_train, y_train)\n",
    "# The coefficients\n",
    "print ('Coefficients: ', regr.coef_)"
   ]
  },
  {
   "cell_type": "code",
   "execution_count": null,
   "metadata": {
    "colab": {
     "base_uri": "https://localhost:8080/",
     "height": 51
    },
    "colab_type": "code",
    "executionInfo": {
     "elapsed": 44891,
     "status": "ok",
     "timestamp": 1579187328687,
     "user": {
      "displayName": "Juan Marcelo Vivar",
      "photoUrl": "",
      "userId": "10903669181857222334"
     },
     "user_tz": -60
    },
    "id": "WI2MyF4f5Dm0",
    "outputId": "bce5624c-91da-414e-c8d0-d8878bf02aae"
   },
   "outputs": [],
   "source": [
    "Y_predits= regr.predict(test[['Gini','Mean_Income_log']])\n",
    "x_test = np.asanyarray(test[['Gini','Mean_Income_log']])\n",
    "y_test = np.asanyarray(test[['Income_log']])\n",
    "residual = np.mean((Y_predits - y_test) ** 2)\n",
    "print(\"Residual sum of squares: %.2f\"\n",
    "      % residual)\n",
    "\n",
    "# Explained variance score: 1 is perfect prediction\n",
    "print('Variance score: %.2f' % regr.score(x_test, y_test))"
   ]
  },
  {
   "cell_type": "code",
   "execution_count": null,
   "metadata": {
    "colab": {
     "base_uri": "https://localhost:8080/",
     "height": 34
    },
    "colab_type": "code",
    "executionInfo": {
     "elapsed": 44880,
     "status": "ok",
     "timestamp": 1579187328688,
     "user": {
      "displayName": "Juan Marcelo Vivar",
      "photoUrl": "",
      "userId": "10903669181857222334"
     },
     "user_tz": -60
    },
    "id": "eG4blYdX5JYQ",
    "outputId": "54c77a33-c203-4d90-f9f3-33b3993b8f34"
   },
   "outputs": [],
   "source": [
    "print(\"le  modèle  explique  près de {}%  de  la variabilité de la variable cible\".format(round(regr.score(x_test, y_test)*100,2)))"
   ]
  },
  {
   "cell_type": "markdown",
   "metadata": {
    "colab_type": "text",
    "id": "tfa5svU_BvLF"
   },
   "source": [
    "**Interprétations**\n",
    "\n",
    "En prenant le logarithme du revenu moyen et le logarithme du revenu, le modèle est beaucoup plus performant. R2 est désormais à 0.69 et toutes les p-valeurs sont faibles, y compris pour l'indice de Gini.\n",
    "\n",
    "**Variance totale**\n",
    "\n",
    "A ce stade, on est capable d'expliquer 69.47%% de la variance. \n",
    "\n",
    "\n",
    "Les 30% restants peuvent être expliqués par :\n",
    "\n",
    "1. Les revenus des parents que nous n'avons pas encore inclus dans le modèle à ce stade\n",
    "2. Le niveau d'études\n",
    "3. L'âge\n",
    "\n"
   ]
  },
  {
   "cell_type": "markdown",
   "metadata": {
    "colab_type": "text",
    "id": "8uP2naXB7SqL"
   },
   "source": [
    "Améliorez le modèle précédent en incluant maintenant la classe de revenu des parents. Quel est le pourcentage de variance expliquée par ce nouveau modèle ?"
   ]
  },
  {
   "cell_type": "code",
   "execution_count": null,
   "metadata": {
    "colab": {
     "base_uri": "https://localhost:8080/",
     "height": 34
    },
    "colab_type": "code",
    "executionInfo": {
     "elapsed": 45487,
     "status": "ok",
     "timestamp": 1579187329305,
     "user": {
      "displayName": "Juan Marcelo Vivar",
      "photoUrl": "",
      "userId": "10903669181857222334"
     },
     "user_tz": -60
    },
    "id": "iAuWnzXH7W_F",
    "outputId": "9898f919-ad48-4956-9d7d-9ada20b1700e"
   },
   "outputs": [],
   "source": [
    "regr = linear_model.LinearRegression()\n",
    "x_train= np.array(train[['Gini','Mean_Income_log','C_parent']])\n",
    "y_train = np.array(train[['Income_log']])\n",
    "regr.fit (x_train, y_train)\n",
    "# The coefficients\n",
    "print ('Coefficients: ', regr.coef_)"
   ]
  },
  {
   "cell_type": "code",
   "execution_count": null,
   "metadata": {
    "colab": {
     "base_uri": "https://localhost:8080/",
     "height": 51
    },
    "colab_type": "code",
    "executionInfo": {
     "elapsed": 45480,
     "status": "ok",
     "timestamp": 1579187329306,
     "user": {
      "displayName": "Juan Marcelo Vivar",
      "photoUrl": "",
      "userId": "10903669181857222334"
     },
     "user_tz": -60
    },
    "id": "MK2H2xSh7dGu",
    "outputId": "c039f7f4-60bb-4c3e-aab6-75844ae7373f"
   },
   "outputs": [],
   "source": [
    "Y_predits= regr.predict(test[['Gini','Mean_Income_log','C_parent']])\n",
    "x_test = np.asanyarray(test[['Gini','Mean_Income_log','C_parent']])\n",
    "y_test = np.asanyarray(test[['Income_log']])\n",
    "residual = np.mean((Y_predits - y_test) ** 2)\n",
    "print(\"Residual sum of squares: %.2f\"\n",
    "      % residual)\n",
    "\n",
    "# Explained variance score: 1 is perfect prediction\n",
    "print('Variance score: %.2f' % regr.score(x_test, y_test))"
   ]
  },
  {
   "cell_type": "code",
   "execution_count": null,
   "metadata": {
    "colab": {
     "base_uri": "https://localhost:8080/",
     "height": 34
    },
    "colab_type": "code",
    "executionInfo": {
     "elapsed": 45471,
     "status": "ok",
     "timestamp": 1579187329307,
     "user": {
      "displayName": "Juan Marcelo Vivar",
      "photoUrl": "",
      "userId": "10903669181857222334"
     },
     "user_tz": -60
    },
    "id": "0xXPRGdk7muW",
    "outputId": "de5adffd-f071-4c84-b699-aa6f12cf851c"
   },
   "outputs": [],
   "source": [
    "print(\"le  modèle  explique  près de {}%  de  la variabilité de la variable cible\".format(round(regr.score(x_test, y_test)*100,2)))"
   ]
  },
  {
   "cell_type": "code",
   "execution_count": null,
   "metadata": {},
   "outputs": [],
   "source": [
    "reg_multip = smf.ols('Income_log ~ Gini + Mean_Income_log + C_parent', data=df).fit()"
   ]
  },
  {
   "cell_type": "code",
   "execution_count": null,
   "metadata": {},
   "outputs": [],
   "source": [
    "print(reg_multip.summary())"
   ]
  },
  {
   "cell_type": "code",
   "execution_count": null,
   "metadata": {},
   "outputs": [],
   "source": [
    "#Test de normalité des résidus\n",
    "shapiro(reg_multip.resid)"
   ]
  },
  {
   "cell_type": "code",
   "execution_count": null,
   "metadata": {},
   "outputs": [],
   "source": [
    "linear_regression_analysis(reg_multip)"
   ]
  },
  {
   "cell_type": "code",
   "execution_count": null,
   "metadata": {
    "colab": {
     "base_uri": "https://localhost:8080/",
     "height": 170
    },
    "colab_type": "code",
    "executionInfo": {
     "elapsed": 52081,
     "status": "ok",
     "timestamp": 1579187335925,
     "user": {
      "displayName": "Juan Marcelo Vivar",
      "photoUrl": "",
      "userId": "10903669181857222334"
     },
     "user_tz": -60
    },
    "id": "mhdFh_Q07p_s",
    "outputId": "97a3342e-c709-4297-a890-c46481d2516c"
   },
   "outputs": [],
   "source": [
    "preds = regr.predict(x_test)\n",
    "print(\"R2 score : %.2f\" % r2_score(y_test,preds))\n",
    "print(\"Mean squared error: %.2f\" % mean_squared_error(y_test,preds))\n",
    "\n",
    "er = []\n",
    "g = 0\n",
    "for i in range(len(y_test)):\n",
    "   \n",
    "    x = (y_test[i] - preds[i]) **2\n",
    "    er.append(x)\n",
    "    g = g + x\n",
    "    \n",
    "x = 0\n",
    "for i in range(len(er)):\n",
    "   x = x + er[i]\n",
    "\n",
    "print (\"MSE\", x / len(er))\n",
    "\n",
    "v = np.var(er)\n",
    "print (\"variance\", v)\n",
    "\n",
    "print (\"average of errors \", np.mean(er))\n",
    "\n",
    "m = np.mean(y_test)\n",
    "print (\"average of observed values\", m)\n",
    "\n",
    "y = 0\n",
    "for i in range(len(y_test)):\n",
    "    y = y + ((y_test[i] - m) ** 2)\n",
    "\n",
    "print (\"total sum of squares\", y)\n",
    "print (\"ẗotal sum of residuals \", g)\n",
    "print (\"r2 calculated\", 1 - (g / y))"
   ]
  },
  {
   "cell_type": "code",
   "execution_count": null,
   "metadata": {},
   "outputs": [],
   "source": [
    "linear_regression_analysis(reg_multip)"
   ]
  },
  {
   "cell_type": "markdown",
   "metadata": {
    "colab_type": "text",
    "id": "1SvNjqOSDFJH"
   },
   "source": [
    "**Interprétations**\n",
    "\n",
    "\n",
    "En incluant la classe de revenu des parents, on gagne 5 points sur le coefficient de détermination.\n",
    "\n",
    "\n",
    "L'influence du revenu des parents sur le revenu de l'enfant est substantiel et est mis en évidence par le coefficient d'élasticité.\n",
    "\n",
    "\n",
    "Désormais, il reste 25% non expliqué. Les 25% pourraient inclure :\n",
    "\n",
    "1. Le niveau d'études\n",
    "2. L'âge\n",
    "3. Le sexe\n",
    "\n",
    "\n",
    "Si on pouvait inclure ces facteurs là, le modèle gagnerait certainement grandement en performance.\n",
    "\n",
    "\n",
    "Enfin, plus l’indice de gini est élevé, plus le salaire sera bas. Ceci est mis en évidence par le coefficient négatif au sein du modèle."
   ]
  },
  {
   "cell_type": "code",
   "execution_count": null,
   "metadata": {
    "colab": {},
    "colab_type": "code",
    "id": "-aNfcUMMDfjN"
   },
   "outputs": [],
   "source": []
  }
 ],
 "metadata": {
  "accelerator": "GPU",
  "colab": {
   "collapsed_sections": [],
   "machine_shape": "hm",
   "name": "Projet_7_code_part_3.ipynb",
   "provenance": []
  },
  "kernelspec": {
   "display_name": "Python 3",
   "language": "python",
   "name": "python3"
  },
  "language_info": {
   "codemirror_mode": {
    "name": "ipython",
    "version": 3
   },
   "file_extension": ".py",
   "mimetype": "text/x-python",
   "name": "python",
   "nbconvert_exporter": "python",
   "pygments_lexer": "ipython3",
   "version": "3.7.6"
  }
 },
 "nbformat": 4,
 "nbformat_minor": 1
}
